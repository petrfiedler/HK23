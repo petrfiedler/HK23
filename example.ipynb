{
 "cells": [
  {
   "cell_type": "code",
   "execution_count": 21,
   "metadata": {},
   "outputs": [],
   "source": [
    "import pandas as pd\n",
    "from src.anomally_detection import detect_anomallies"
   ]
  },
  {
   "cell_type": "code",
   "execution_count": 22,
   "metadata": {},
   "outputs": [
    {
     "name": "stderr",
     "output_type": "stream",
     "text": [
      "/tmp/ipykernel_16292/591682236.py:1: DtypeWarning: Columns (40) have mixed types. Specify dtype option on import or set low_memory=False.\n",
      "  df = pd.read_csv('data/dc_file_modified2.csv').sample(50_000)\n"
     ]
    }
   ],
   "source": [
    "df = pd.read_csv('data/dc_file_modified2.csv').sample(50_000)"
   ]
  },
  {
   "cell_type": "code",
   "execution_count": 23,
   "metadata": {},
   "outputs": [],
   "source": [
    "anoms = detect_anomallies(df, n_runs=5)"
   ]
  },
  {
   "cell_type": "code",
   "execution_count": 24,
   "metadata": {},
   "outputs": [
    {
     "data": {
      "text/plain": [
       "3      12\n",
       "2     185\n",
       "1    1902\n",
       "dtype: int64"
      ]
     },
     "execution_count": 24,
     "metadata": {},
     "output_type": "execute_result"
    }
   ],
   "source": [
    "anoms = pd.Series(anoms)\n",
    "anoms.value_counts().sort_index(ascending=False)"
   ]
  },
  {
   "cell_type": "code",
   "execution_count": 25,
   "metadata": {},
   "outputs": [
    {
     "data": {
      "text/plain": [
       "7333    3\n",
       "7803    3\n",
       "6926    3\n",
       "6141    3\n",
       "9264    3\n",
       "       ..\n",
       "8820    1\n",
       "630     1\n",
       "628     1\n",
       "5743    1\n",
       "2039    1\n",
       "Length: 2099, dtype: int64"
      ]
     },
     "execution_count": 25,
     "metadata": {},
     "output_type": "execute_result"
    }
   ],
   "source": [
    "anoms = anoms.sort_values(ascending=False)\n",
    "anoms"
   ]
  },
  {
   "cell_type": "code",
   "execution_count": 26,
   "metadata": {},
   "outputs": [],
   "source": [
    "anomallies = df.iloc[anoms.index]"
   ]
  },
  {
   "cell_type": "code",
   "execution_count": 27,
   "metadata": {},
   "outputs": [
    {
     "name": "stderr",
     "output_type": "stream",
     "text": [
      "/tmp/ipykernel_16292/3306755833.py:1: SettingWithCopyWarning: \n",
      "A value is trying to be set on a copy of a slice from a DataFrame.\n",
      "Try using .loc[row_indexer,col_indexer] = value instead\n",
      "\n",
      "See the caveats in the documentation: https://pandas.pydata.org/pandas-docs/stable/user_guide/indexing.html#returning-a-view-versus-a-copy\n",
      "  anomallies['timestamp'] = anomallies['timestamp'].astype('datetime64[ns]')\n"
     ]
    }
   ],
   "source": [
    "anomallies['timestamp'] = anomallies['timestamp'].astype('datetime64[ns]')"
   ]
  },
  {
   "attachments": {},
   "cell_type": "markdown",
   "metadata": {},
   "source": [
    "## Expected timeline\n",
    "\n",
    "On September 19th, 2020\n",
    "\n",
    "- 02:19 – Single NMAP Probe of TCP Port 3389 from 194.61.24.102\n",
    "- 02:21 – RDP Brute Force begins with Hydra from 194.61.24.102\n",
    "- 02:21 – CITADEL\\Administrator successfully logs in over RDP from 194.61.24.102\n",
    "- 02:24:06 – Compromised Account uses Internet Explorer to download meterpreter from 194.61.24.102 over HTTP to the DC\n",
    "- 02:27:49 – Malware installed as Windows AutoStart Service with Local System Priveleges on the DC\n",
    "- @02:30 – Secrets from the file server are placed into a secret.zip file using the windows GUI\n",
    "- @02:31 – Secret.zip is exfiltrated, then deleted, using meterpreter\n",
    "- 02:32:21 – Szechuan Sauce.txt is accessed by the attacker!!\n",
    "- 02:34 – Secret_Beth.txt is deleted from the DC File Share\n",
    "- 02:34 – Beth_Secret.txt with a different secret is created on the DC file share\n",
    "- 02:35 – Attacker initiates lateral movement with RDP to the Desktop-SDN1RPT system\n",
    "- @02:38 – Beth_Secret.txt is timestomped with meterpreter so that it matches the time of PortalGunsPlans.txt on the DC\n",
    "- 02:40 – Compromised Account uses Internet Explorer to download meterpreter from 194.61.24.102 over HTTP to the Desktop system\n",
    "- @02:41 – Malware persistence is intalled on the Desktop system as a service (same as DC) and in the registry (same as the DC).\n",
    "- @02:46 – loot.zip is created on the Desktop system using the File Explorer (aka the GUI).\n",
    "- @02:48 – loot.zip is exfiltrated and then deleted from the Desktop System\n",
    "- @0850 – Rick Sanchez discovery?! (More to follow)\n",
    "- @0852 – Attacker terminates the first RDP Session with the DC\n"
   ]
  },
  {
   "cell_type": "code",
   "execution_count": 28,
   "metadata": {},
   "outputs": [
    {
     "data": {
      "text/plain": [
       "2013-06-18 12:19:24    1\n",
       "2013-06-18 12:19:33    1\n",
       "2013-06-18 12:22:40    1\n",
       "2013-06-18 12:25:56    1\n",
       "2013-06-18 12:28:05    1\n",
       "                      ..\n",
       "2020-09-19 03:22:37    1\n",
       "2020-09-19 03:23:01    1\n",
       "2020-09-19 03:23:09    2\n",
       "2020-09-19 04:03:45    1\n",
       "2020-09-19 04:21:42    1\n",
       "Name: timestamp, Length: 1057, dtype: int64"
      ]
     },
     "execution_count": 28,
     "metadata": {},
     "output_type": "execute_result"
    }
   ],
   "source": [
    "anomallies['timestamp'].value_counts().sort_index()"
   ]
  },
  {
   "cell_type": "code",
   "execution_count": null,
   "metadata": {},
   "outputs": [],
   "source": []
  }
 ],
 "metadata": {
  "kernelspec": {
   "display_name": "hk23",
   "language": "python",
   "name": "python3"
  },
  "language_info": {
   "codemirror_mode": {
    "name": "ipython",
    "version": 3
   },
   "file_extension": ".py",
   "mimetype": "text/x-python",
   "name": "python",
   "nbconvert_exporter": "python",
   "pygments_lexer": "ipython3",
   "version": "3.10.6"
  },
  "orig_nbformat": 4
 },
 "nbformat": 4,
 "nbformat_minor": 2
}
