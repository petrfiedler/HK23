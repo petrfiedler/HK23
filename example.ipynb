{
 "cells": [
  {
   "cell_type": "code",
   "execution_count": 1,
   "metadata": {},
   "outputs": [],
   "source": [
    "import pandas as pd\n",
    "from anomally_detection import detect_anomallies"
   ]
  },
  {
   "cell_type": "code",
   "execution_count": 2,
   "metadata": {},
   "outputs": [
    {
     "name": "stderr",
     "output_type": "stream",
     "text": [
      "/tmp/ipykernel_33410/3710931216.py:1: DtypeWarning: Columns (40) have mixed types. Specify dtype option on import or set low_memory=False.\n",
      "  df = pd.read_csv('data/dc_file_modified2.csv').sample(20_000)\n"
     ]
    }
   ],
   "source": [
    "df = pd.read_csv('data/dc_file_modified2.csv').sample(20_000)"
   ]
  },
  {
   "cell_type": "code",
   "execution_count": 3,
   "metadata": {},
   "outputs": [],
   "source": [
    "anoms = detect_anomallies(df)"
   ]
  },
  {
   "cell_type": "code",
   "execution_count": 8,
   "metadata": {},
   "outputs": [
    {
     "data": {
      "text/plain": [
       "4       1\n",
       "3       8\n",
       "2     109\n",
       "1    1563\n",
       "dtype: int64"
      ]
     },
     "execution_count": 8,
     "metadata": {},
     "output_type": "execute_result"
    }
   ],
   "source": [
    "anoms = pd.Series(anoms)\n",
    "anoms.value_counts().sort_index(ascending=False)"
   ]
  },
  {
   "cell_type": "code",
   "execution_count": 10,
   "metadata": {},
   "outputs": [
    {
     "data": {
      "text/plain": [
       "8184    4\n",
       "449     3\n",
       "6875    3\n",
       "7046    3\n",
       "21      3\n",
       "       ..\n",
       "1334    1\n",
       "1331    1\n",
       "7468    1\n",
       "5420    1\n",
       "6134    1\n",
       "Length: 1681, dtype: int64"
      ]
     },
     "execution_count": 10,
     "metadata": {},
     "output_type": "execute_result"
    }
   ],
   "source": [
    "anoms = anoms.sort_values(ascending=False)\n",
    "anoms"
   ]
  },
  {
   "cell_type": "code",
   "execution_count": 11,
   "metadata": {},
   "outputs": [
    {
     "data": {
      "text/plain": [
       "Unnamed: 0                                                                                       696921\n",
       "filename                                                                                     NTFS:\\$MFT\n",
       "inode                                                                                                 0\n",
       "extra                                                 attribute_type: 48; file_attribute_flags: 32; ...\n",
       "id                                                                 dac91ff0-a19f-47da-8262-e11b3224a594\n",
       "datetime                                                                            2020-09-17 16:50:23\n",
       "M                                                                                                     0\n",
       "A                                                                                                     0\n",
       "C                                                                                                     1\n",
       "B                                                                                                     0\n",
       "file_stat                                                                                             0\n",
       "NTFS_file_stat                                                                                        1\n",
       "file_entry_shell_item                                                                                 0\n",
       "NTFS_USN_change                                                                                       0\n",
       "file_path                                                                                    NTFS:\\$MFT\n",
       "name                                                                                    deskmon.dll.mui\n",
       "typef                                                                                              None\n",
       "filef                                                                                                 0\n",
       "directory                                                                                             0\n",
       "link                                                                                                  0\n",
       "dir_type                                                                                          Other\n",
       "dir_appdata                                                                                           0\n",
       "dir_win                                                                                               0\n",
       "dir_user                                                                                              0\n",
       "dir_other                                                                                             1\n",
       "file_type                                                                                           mui\n",
       "file_executable                                                                                       0\n",
       "file_graphic                                                                                          0\n",
       "file_documents                                                                                        0\n",
       "file_ps                                                                                               0\n",
       "file_other                                                                                            1\n",
       "mft                                                                                                   1\n",
       "lnk_shell_items                                                                                       0\n",
       "olecf_olecf_automatic_destinations/lnk/shell_items                                                    0\n",
       "winreg_bagmru/shell_items                                                                             0\n",
       "usnjrnl                                                                                               0\n",
       "is_allocated                                                                                       None\n",
       "is_allocated1                                                                                         0\n",
       "is_allocated0                                                                                         0\n",
       "file_size                                                                                             0\n",
       "sha_256                                                                                             NaN\n",
       "timestamp                                                                           2020-09-17 16:50:23\n",
       "epochtime                                                                                  1600361423.0\n",
       "hour                                                                                                 16\n",
       "minute                                                                                               50\n",
       "Name: 696921, dtype: object"
      ]
     },
     "execution_count": 11,
     "metadata": {},
     "output_type": "execute_result"
    }
   ],
   "source": [
    "df.iloc[anoms.index[0]]"
   ]
  },
  {
   "cell_type": "code",
   "execution_count": null,
   "metadata": {},
   "outputs": [],
   "source": []
  }
 ],
 "metadata": {
  "kernelspec": {
   "display_name": "hk23",
   "language": "python",
   "name": "python3"
  },
  "language_info": {
   "codemirror_mode": {
    "name": "ipython",
    "version": 3
   },
   "file_extension": ".py",
   "mimetype": "text/x-python",
   "name": "python",
   "nbconvert_exporter": "python",
   "pygments_lexer": "ipython3",
   "version": "3.10.6"
  },
  "orig_nbformat": 4
 },
 "nbformat": 4,
 "nbformat_minor": 2
}
