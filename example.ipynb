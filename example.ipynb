{
 "cells": [
  {
   "cell_type": "code",
   "execution_count": 11,
   "metadata": {},
   "outputs": [],
   "source": [
    "import pandas as pd\n",
    "from src.anomally_detection import detect_anomallies"
   ]
  },
  {
   "cell_type": "code",
   "execution_count": 12,
   "metadata": {},
   "outputs": [
    {
     "name": "stderr",
     "output_type": "stream",
     "text": [
      "/tmp/ipykernel_34745/591682236.py:1: DtypeWarning: Columns (40) have mixed types. Specify dtype option on import or set low_memory=False.\n",
      "  df = pd.read_csv('data/dc_file_modified2.csv').sample(50_000)\n"
     ]
    }
   ],
   "source": [
    "df = pd.read_csv('data/dc_file_modified2.csv').sample(50_000)"
   ]
  },
  {
   "cell_type": "code",
   "execution_count": 13,
   "metadata": {},
   "outputs": [],
   "source": [
    "anoms = detect_anomallies(df, n_runs=5)"
   ]
  },
  {
   "cell_type": "code",
   "execution_count": 14,
   "metadata": {},
   "outputs": [
    {
     "data": {
      "text/plain": [
       "4       1\n",
       "3      36\n",
       "2     534\n",
       "1    2897\n",
       "dtype: int64"
      ]
     },
     "execution_count": 14,
     "metadata": {},
     "output_type": "execute_result"
    }
   ],
   "source": [
    "anoms = pd.Series(anoms)\n",
    "anoms.value_counts().sort_index(ascending=False)"
   ]
  },
  {
   "cell_type": "code",
   "execution_count": 15,
   "metadata": {},
   "outputs": [
    {
     "data": {
      "text/plain": [
       "8826    4\n",
       "1900    3\n",
       "6280    3\n",
       "715     3\n",
       "9570    3\n",
       "       ..\n",
       "7513    1\n",
       "9561    1\n",
       "9562    1\n",
       "5469    1\n",
       "8191    1\n",
       "Length: 3468, dtype: int64"
      ]
     },
     "execution_count": 15,
     "metadata": {},
     "output_type": "execute_result"
    }
   ],
   "source": [
    "anoms = anoms.sort_values(ascending=False)\n",
    "anoms"
   ]
  },
  {
   "cell_type": "code",
   "execution_count": 16,
   "metadata": {},
   "outputs": [],
   "source": [
    "anomallies = df.iloc[anoms.index]"
   ]
  },
  {
   "cell_type": "code",
   "execution_count": 17,
   "metadata": {},
   "outputs": [
    {
     "name": "stderr",
     "output_type": "stream",
     "text": [
      "/tmp/ipykernel_34745/3306755833.py:1: SettingWithCopyWarning: \n",
      "A value is trying to be set on a copy of a slice from a DataFrame.\n",
      "Try using .loc[row_indexer,col_indexer] = value instead\n",
      "\n",
      "See the caveats in the documentation: https://pandas.pydata.org/pandas-docs/stable/user_guide/indexing.html#returning-a-view-versus-a-copy\n",
      "  anomallies['timestamp'] = anomallies['timestamp'].astype('datetime64[ns]')\n"
     ]
    }
   ],
   "source": [
    "anomallies['timestamp'] = anomallies['timestamp'].astype('datetime64[ns]')"
   ]
  },
  {
   "cell_type": "code",
   "execution_count": 18,
   "metadata": {},
   "outputs": [
    {
     "data": {
      "text/plain": [
       "2012-07-26 08:13:00    1\n",
       "2013-06-18 12:17:45    3\n",
       "2013-06-18 12:20:48    1\n",
       "2013-06-18 12:22:40    1\n",
       "2013-06-18 12:23:12    2\n",
       "                      ..\n",
       "2020-09-19 04:03:45    1\n",
       "2020-09-19 04:08:46    1\n",
       "2020-09-19 04:38:50    1\n",
       "2020-09-19 04:39:42    1\n",
       "2020-09-19 04:40:12    1\n",
       "Name: timestamp, Length: 1500, dtype: int64"
      ]
     },
     "execution_count": 18,
     "metadata": {},
     "output_type": "execute_result"
    }
   ],
   "source": [
    "anomallies['timestamp'].value_counts().sort_index()"
   ]
  },
  {
   "cell_type": "code",
   "execution_count": null,
   "metadata": {},
   "outputs": [],
   "source": []
  }
 ],
 "metadata": {
  "kernelspec": {
   "display_name": "hk23",
   "language": "python",
   "name": "python3"
  },
  "language_info": {
   "codemirror_mode": {
    "name": "ipython",
    "version": 3
   },
   "file_extension": ".py",
   "mimetype": "text/x-python",
   "name": "python",
   "nbconvert_exporter": "python",
   "pygments_lexer": "ipython3",
   "version": "3.10.6"
  },
  "orig_nbformat": 4
 },
 "nbformat": 4,
 "nbformat_minor": 2
}
