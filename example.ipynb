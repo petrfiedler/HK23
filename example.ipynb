{
 "cells": [
  {
   "cell_type": "code",
   "execution_count": 23,
   "metadata": {},
   "outputs": [],
   "source": [
    "import pandas as pd\n",
    "from src.anomally_detection import detect_anomallies"
   ]
  },
  {
   "cell_type": "code",
   "execution_count": 24,
   "metadata": {},
   "outputs": [
    {
     "name": "stderr",
     "output_type": "stream",
     "text": [
      "/tmp/ipykernel_17454/4294133849.py:1: DtypeWarning: Columns (40) have mixed types. Specify dtype option on import or set low_memory=False.\n",
      "  file_data = pd.read_csv('data/dc_file_modified2.csv').sample(50_000)\n"
     ]
    }
   ],
   "source": [
    "file_data = pd.read_csv('data/dc_file_modified2.csv').sample(50_000)"
   ]
  },
  {
   "cell_type": "code",
   "execution_count": 25,
   "metadata": {},
   "outputs": [],
   "source": [
    "anoms = detect_anomallies(file_data, n_runs=5, mode='file')"
   ]
  },
  {
   "cell_type": "code",
   "execution_count": 26,
   "metadata": {},
   "outputs": [
    {
     "data": {
      "text/plain": [
       "3      10\n",
       "2     230\n",
       "1    1988\n",
       "dtype: int64"
      ]
     },
     "execution_count": 26,
     "metadata": {},
     "output_type": "execute_result"
    }
   ],
   "source": [
    "anoms = pd.Series(anoms)\n",
    "anoms.value_counts().sort_index(ascending=False)"
   ]
  },
  {
   "cell_type": "code",
   "execution_count": 27,
   "metadata": {},
   "outputs": [
    {
     "data": {
      "text/plain": [
       "515     3\n",
       "9045    3\n",
       "7830    3\n",
       "2886    3\n",
       "5725    3\n",
       "       ..\n",
       "1846    1\n",
       "1845    1\n",
       "1844    1\n",
       "7987    1\n",
       "1023    1\n",
       "Length: 2228, dtype: int64"
      ]
     },
     "execution_count": 27,
     "metadata": {},
     "output_type": "execute_result"
    }
   ],
   "source": [
    "anoms = anoms.sort_values(ascending=False)\n",
    "file_anomallies = file_data.iloc[anoms.index]\n",
    "anoms"
   ]
  },
  {
   "cell_type": "code",
   "execution_count": 28,
   "metadata": {},
   "outputs": [
    {
     "name": "stderr",
     "output_type": "stream",
     "text": [
      "/tmp/ipykernel_17454/2265086207.py:1: SettingWithCopyWarning: \n",
      "A value is trying to be set on a copy of a slice from a DataFrame.\n",
      "Try using .loc[row_indexer,col_indexer] = value instead\n",
      "\n",
      "See the caveats in the documentation: https://pandas.pydata.org/pandas-docs/stable/user_guide/indexing.html#returning-a-view-versus-a-copy\n",
      "  file_anomallies['timestamp'] = file_anomallies['timestamp'].astype('datetime64[ns]')\n"
     ]
    },
    {
     "data": {
      "text/plain": [
       "2013-06-18 12:17:45    1\n",
       "2013-06-18 12:22:40    2\n",
       "2013-06-18 12:28:02    1\n",
       "2013-06-18 12:28:12    1\n",
       "2013-06-18 12:28:58    1\n",
       "                      ..\n",
       "2020-09-19 03:56:04    1\n",
       "2020-09-19 04:08:42    1\n",
       "2020-09-19 04:22:38    2\n",
       "2020-09-19 04:46:45    1\n",
       "2020-09-19 04:48:51    1\n",
       "Name: timestamp, Length: 1087, dtype: int64"
      ]
     },
     "execution_count": 28,
     "metadata": {},
     "output_type": "execute_result"
    }
   ],
   "source": [
    "file_anomallies['timestamp'] = file_anomallies['timestamp'].astype('datetime64[ns]')\n",
    "file_anomallies['timestamp'].value_counts().sort_index()"
   ]
  },
  {
   "cell_type": "code",
   "execution_count": 29,
   "metadata": {},
   "outputs": [
    {
     "name": "stderr",
     "output_type": "stream",
     "text": [
      "/tmp/ipykernel_17454/4037181340.py:1: DtypeWarning: Columns (15) have mixed types. Specify dtype option on import or set low_memory=False.\n",
      "  event_data = pd.read_csv('data/dc_evt_modified2.csv')\n"
     ]
    }
   ],
   "source": [
    "event_data = pd.read_csv('data/dc_evt_modified2.csv')"
   ]
  },
  {
   "cell_type": "code",
   "execution_count": 30,
   "metadata": {},
   "outputs": [],
   "source": [
    "anoms = detect_anomallies(event_data, n_runs=5, mode='event')"
   ]
  },
  {
   "cell_type": "code",
   "execution_count": 31,
   "metadata": {},
   "outputs": [
    {
     "data": {
      "text/plain": [
       "3      2\n",
       "2     21\n",
       "1    702\n",
       "dtype: int64"
      ]
     },
     "execution_count": 31,
     "metadata": {},
     "output_type": "execute_result"
    }
   ],
   "source": [
    "anoms = pd.Series(anoms)\n",
    "anoms.value_counts().sort_index(ascending=False)"
   ]
  },
  {
   "cell_type": "code",
   "execution_count": 32,
   "metadata": {},
   "outputs": [
    {
     "data": {
      "text/plain": [
       "5964    3\n",
       "7063    3\n",
       "6502    2\n",
       "6395    2\n",
       "3319    2\n",
       "       ..\n",
       "7508    1\n",
       "342     1\n",
       "3414    1\n",
       "3933    1\n",
       "6143    1\n",
       "Length: 725, dtype: int64"
      ]
     },
     "execution_count": 32,
     "metadata": {},
     "output_type": "execute_result"
    }
   ],
   "source": [
    "anoms = anoms.sort_values(ascending=False)\n",
    "event_anomallies = event_data.iloc[anoms.index]\n",
    "anoms"
   ]
  },
  {
   "cell_type": "code",
   "execution_count": 33,
   "metadata": {},
   "outputs": [
    {
     "name": "stderr",
     "output_type": "stream",
     "text": [
      "/tmp/ipykernel_17454/1901508725.py:1: SettingWithCopyWarning: \n",
      "A value is trying to be set on a copy of a slice from a DataFrame.\n",
      "Try using .loc[row_indexer,col_indexer] = value instead\n",
      "\n",
      "See the caveats in the documentation: https://pandas.pydata.org/pandas-docs/stable/user_guide/indexing.html#returning-a-view-versus-a-copy\n",
      "  event_anomallies['timestamp'] = event_anomallies['timestamp'].astype('datetime64[ns]')\n"
     ]
    },
    {
     "data": {
      "text/plain": [
       "2014-03-21 19:14:09     1\n",
       "2020-09-17 15:51:29     1\n",
       "2020-09-17 15:51:30     6\n",
       "2020-09-17 15:51:31    16\n",
       "2020-09-17 15:51:32     2\n",
       "                       ..\n",
       "2020-09-18 02:14:36     1\n",
       "2020-09-18 02:14:38     1\n",
       "2020-09-18 02:14:44     3\n",
       "2020-09-18 02:16:40     1\n",
       "2020-09-18 02:19:36     1\n",
       "Name: timestamp, Length: 383, dtype: int64"
      ]
     },
     "execution_count": 33,
     "metadata": {},
     "output_type": "execute_result"
    }
   ],
   "source": [
    "event_anomallies['timestamp'] = event_anomallies['timestamp'].astype('datetime64[ns]')\n",
    "event_anomallies['timestamp'].value_counts().sort_index()"
   ]
  },
  {
   "attachments": {},
   "cell_type": "markdown",
   "metadata": {},
   "source": [
    "## Expected timeline\n",
    "\n",
    "https://dfirmadness.com/answers-to-szechuan-case-001/\n",
    "\n",
    "On September 19th, 2020\n",
    "\n",
    "- 02:19 – Single NMAP Probe of TCP Port 3389 from 194.61.24.102\n",
    "- 02:21 – RDP Brute Force begins with Hydra from 194.61.24.102\n",
    "- 02:21 – CITADEL\\Administrator successfully logs in over RDP from 194.61.24.102\n",
    "- 02:24:06 – Compromised Account uses Internet Explorer to download meterpreter from 194.61.24.102 over HTTP to the DC\n",
    "- 02:27:49 – Malware installed as Windows AutoStart Service with Local System Priveleges on the DC\n",
    "- @02:30 – Secrets from the file server are placed into a secret.zip file using the windows GUI\n",
    "- @02:31 – Secret.zip is exfiltrated, then deleted, using meterpreter\n",
    "- 02:32:21 – Szechuan Sauce.txt is accessed by the attacker!!\n",
    "- 02:34 – Secret_Beth.txt is deleted from the DC File Share\n",
    "- 02:34 – Beth_Secret.txt with a different secret is created on the DC file share\n",
    "- 02:35 – Attacker initiates lateral movement with RDP to the Desktop-SDN1RPT system\n",
    "- @02:38 – Beth_Secret.txt is timestomped with meterpreter so that it matches the time of PortalGunsPlans.txt on the DC\n",
    "- 02:40 – Compromised Account uses Internet Explorer to download meterpreter from 194.61.24.102 over HTTP to the Desktop system\n",
    "- @02:41 – Malware persistence is intalled on the Desktop system as a service (same as DC) and in the registry (same as the DC).\n",
    "- @02:46 – loot.zip is created on the Desktop system using the File Explorer (aka the GUI).\n",
    "- @02:48 – loot.zip is exfiltrated and then deleted from the Desktop System\n",
    "- @0850 – Rick Sanchez discovery?! (More to follow)\n",
    "- @0852 – Attacker terminates the first RDP Session with the DC"
   ]
  },
  {
   "cell_type": "markdown",
   "metadata": {},
   "source": []
  }
 ],
 "metadata": {
  "kernelspec": {
   "display_name": "hk23",
   "language": "python",
   "name": "python3"
  },
  "language_info": {
   "codemirror_mode": {
    "name": "ipython",
    "version": 3
   },
   "file_extension": ".py",
   "mimetype": "text/x-python",
   "name": "python",
   "nbconvert_exporter": "python",
   "pygments_lexer": "ipython3",
   "version": "3.10.6"
  },
  "orig_nbformat": 4
 },
 "nbformat": 4,
 "nbformat_minor": 2
}
