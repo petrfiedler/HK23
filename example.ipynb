{
 "cells": [
  {
   "cell_type": "code",
   "execution_count": 1,
   "metadata": {},
   "outputs": [],
   "source": [
    "import pandas as pd\n",
    "from src.anomally_detection import detect_anomallies"
   ]
  },
  {
   "cell_type": "code",
   "execution_count": 2,
   "metadata": {},
   "outputs": [
    {
     "name": "stderr",
     "output_type": "stream",
     "text": [
      "/tmp/ipykernel_37095/591682236.py:1: DtypeWarning: Columns (40) have mixed types. Specify dtype option on import or set low_memory=False.\n",
      "  df = pd.read_csv('data/dc_file_modified2.csv').sample(50_000)\n"
     ]
    }
   ],
   "source": [
    "df = pd.read_csv('data/dc_file_modified2.csv').sample(50_000)"
   ]
  },
  {
   "cell_type": "code",
   "execution_count": 3,
   "metadata": {},
   "outputs": [],
   "source": [
    "anoms = detect_anomallies(df, n_runs=5)"
   ]
  },
  {
   "cell_type": "code",
   "execution_count": 4,
   "metadata": {},
   "outputs": [
    {
     "data": {
      "text/plain": [
       "4       2\n",
       "3      48\n",
       "2     548\n",
       "1    3037\n",
       "dtype: int64"
      ]
     },
     "execution_count": 4,
     "metadata": {},
     "output_type": "execute_result"
    }
   ],
   "source": [
    "anoms = pd.Series(anoms)\n",
    "anoms.value_counts().sort_index(ascending=False)"
   ]
  },
  {
   "cell_type": "code",
   "execution_count": 5,
   "metadata": {},
   "outputs": [
    {
     "data": {
      "text/plain": [
       "1331    4\n",
       "7553    4\n",
       "1095    3\n",
       "6305    3\n",
       "6132    3\n",
       "       ..\n",
       "3360    1\n",
       "1313    1\n",
       "1315    1\n",
       "7459    1\n",
       "4094    1\n",
       "Length: 3635, dtype: int64"
      ]
     },
     "execution_count": 5,
     "metadata": {},
     "output_type": "execute_result"
    }
   ],
   "source": [
    "anoms = anoms.sort_values(ascending=False)\n",
    "anoms"
   ]
  },
  {
   "cell_type": "code",
   "execution_count": 6,
   "metadata": {},
   "outputs": [],
   "source": [
    "anomallies = df.iloc[anoms.index]"
   ]
  },
  {
   "cell_type": "code",
   "execution_count": 7,
   "metadata": {},
   "outputs": [
    {
     "name": "stderr",
     "output_type": "stream",
     "text": [
      "/tmp/ipykernel_37095/3306755833.py:1: SettingWithCopyWarning: \n",
      "A value is trying to be set on a copy of a slice from a DataFrame.\n",
      "Try using .loc[row_indexer,col_indexer] = value instead\n",
      "\n",
      "See the caveats in the documentation: https://pandas.pydata.org/pandas-docs/stable/user_guide/indexing.html#returning-a-view-versus-a-copy\n",
      "  anomallies['timestamp'] = anomallies['timestamp'].astype('datetime64[ns]')\n"
     ]
    }
   ],
   "source": [
    "anomallies['timestamp'] = anomallies['timestamp'].astype('datetime64[ns]')"
   ]
  },
  {
   "cell_type": "code",
   "execution_count": 8,
   "metadata": {},
   "outputs": [
    {
     "data": {
      "text/plain": [
       "2013-06-18 12:17:22    1\n",
       "2013-06-18 12:19:40    1\n",
       "2013-06-18 12:19:41    1\n",
       "2013-06-18 12:25:59    1\n",
       "2013-06-18 12:28:02    1\n",
       "                      ..\n",
       "2020-09-19 03:52:46    1\n",
       "2020-09-19 03:57:40    1\n",
       "2020-09-19 04:36:14    2\n",
       "2020-09-19 04:38:50    1\n",
       "2020-09-19 04:49:04    1\n",
       "Name: timestamp, Length: 1522, dtype: int64"
      ]
     },
     "execution_count": 8,
     "metadata": {},
     "output_type": "execute_result"
    }
   ],
   "source": [
    "anomallies['timestamp'].value_counts().sort_index()"
   ]
  },
  {
   "cell_type": "code",
   "execution_count": null,
   "metadata": {},
   "outputs": [],
   "source": []
  }
 ],
 "metadata": {
  "kernelspec": {
   "display_name": "hk23",
   "language": "python",
   "name": "python3"
  },
  "language_info": {
   "codemirror_mode": {
    "name": "ipython",
    "version": 3
   },
   "file_extension": ".py",
   "mimetype": "text/x-python",
   "name": "python",
   "nbconvert_exporter": "python",
   "pygments_lexer": "ipython3",
   "version": "3.10.6"
  },
  "orig_nbformat": 4
 },
 "nbformat": 4,
 "nbformat_minor": 2
}
