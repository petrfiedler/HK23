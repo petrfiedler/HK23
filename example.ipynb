{
 "cells": [
  {
   "cell_type": "code",
   "execution_count": 17,
   "metadata": {},
   "outputs": [],
   "source": [
    "import pandas as pd\n",
    "from src.anomally_detection import detect_anomallies\n",
    "from pathlib import Path"
   ]
  },
  {
   "cell_type": "code",
   "execution_count": 24,
   "metadata": {},
   "outputs": [
    {
     "name": "stderr",
     "output_type": "stream",
     "text": [
      "/tmp/ipykernel_18845/4251480334.py:1: DtypeWarning: Columns (40) have mixed types. Specify dtype option on import or set low_memory=False.\n",
      "  file_data = pd.read_csv('data/dc_file_modified2.csv')\n"
     ]
    }
   ],
   "source": [
    "file_data = pd.read_csv('data/dc_file_modified2.csv')\n",
    "out_file = Path('data/dc_file_anomally.csv')"
   ]
  },
  {
   "cell_type": "code",
   "execution_count": 26,
   "metadata": {},
   "outputs": [],
   "source": [
    "if out_file.exists():\n",
    "    file_anoms = pd.read_csv(out_file)\n",
    "else:\n",
    "    file_anoms = detect_anomallies(file_data, n_runs=5, mode='file')\n",
    "    file_anoms.to_csv(out_file, index=False)"
   ]
  },
  {
   "cell_type": "code",
   "execution_count": 12,
   "metadata": {},
   "outputs": [
    {
     "data": {
      "text/plain": [
       "2012-07-26 01:26:46     5\n",
       "2012-07-26 03:20:52     5\n",
       "2012-07-26 05:38:00     3\n",
       "2012-07-26 05:38:02     4\n",
       "2012-07-26 08:13:00    10\n",
       "                       ..\n",
       "2013-06-18 14:57:16    16\n",
       "2013-06-18 14:57:18     3\n",
       "2013-06-18 14:57:19    14\n",
       "2013-06-18 14:57:22    15\n",
       "2013-06-18 14:57:24    41\n",
       "Name: timestamp, Length: 675, dtype: int64"
      ]
     },
     "execution_count": 12,
     "metadata": {},
     "output_type": "execute_result"
    }
   ],
   "source": [
    "file_anoms['timestamp'] = file_anoms['timestamp'].astype('datetime64[ns]')\n",
    "file_anoms['timestamp'].value_counts().sort_index()"
   ]
  },
  {
   "cell_type": "code",
   "execution_count": 28,
   "metadata": {},
   "outputs": [
    {
     "name": "stderr",
     "output_type": "stream",
     "text": [
      "/tmp/ipykernel_18845/3243503818.py:1: DtypeWarning: Columns (15) have mixed types. Specify dtype option on import or set low_memory=False.\n",
      "  event_data = pd.read_csv('data/dc_evt_modified2.csv')\n"
     ]
    }
   ],
   "source": [
    "event_data = pd.read_csv('data/dc_evt_modified2.csv')\n",
    "out_event = Path('data/dc_evt_anomally.csv')"
   ]
  },
  {
   "cell_type": "code",
   "execution_count": 30,
   "metadata": {},
   "outputs": [],
   "source": [
    "if out_event.exists():\n",
    "    event_anoms = pd.read_csv(out_event)\n",
    "else:\n",
    "    event_anoms = detect_anomallies(event_data, n_runs=5, mode='event')\n",
    "    event_anoms.to_csv(out_event, index=False)"
   ]
  },
  {
   "cell_type": "code",
   "execution_count": 15,
   "metadata": {},
   "outputs": [
    {
     "data": {
      "text/plain": [
       "2014-03-21 19:14:09     1\n",
       "2020-09-17 15:51:29     1\n",
       "2020-09-17 15:51:30     6\n",
       "2020-09-17 15:51:31    16\n",
       "2020-09-17 15:51:32     2\n",
       "                       ..\n",
       "2020-09-18 02:14:36     1\n",
       "2020-09-18 02:14:38     1\n",
       "2020-09-18 02:14:44     3\n",
       "2020-09-18 02:16:40     1\n",
       "2020-09-18 02:19:36     1\n",
       "Name: timestamp, Length: 383, dtype: int64"
      ]
     },
     "execution_count": 15,
     "metadata": {},
     "output_type": "execute_result"
    }
   ],
   "source": [
    "event_anoms['timestamp'] = event_anoms['timestamp'].astype('datetime64[ns]')\n",
    "event_anoms['timestamp'].value_counts().sort_index()"
   ]
  },
  {
   "attachments": {},
   "cell_type": "markdown",
   "metadata": {},
   "source": [
    "## Expected timeline\n",
    "\n",
    "https://dfirmadness.com/answers-to-szechuan-case-001/\n",
    "\n",
    "On September 19th, 2020\n",
    "\n",
    "- 02:19 – Single NMAP Probe of TCP Port 3389 from 194.61.24.102\n",
    "- 02:21 – RDP Brute Force begins with Hydra from 194.61.24.102\n",
    "- 02:21 – CITADEL\\Administrator successfully logs in over RDP from 194.61.24.102\n",
    "- 02:24:06 – Compromised Account uses Internet Explorer to download meterpreter from 194.61.24.102 over HTTP to the DC\n",
    "- 02:27:49 – Malware installed as Windows AutoStart Service with Local System Priveleges on the DC\n",
    "- @02:30 – Secrets from the file server are placed into a secret.zip file using the windows GUI\n",
    "- @02:31 – Secret.zip is exfiltrated, then deleted, using meterpreter\n",
    "- 02:32:21 – Szechuan Sauce.txt is accessed by the attacker!!\n",
    "- 02:34 – Secret_Beth.txt is deleted from the DC File Share\n",
    "- 02:34 – Beth_Secret.txt with a different secret is created on the DC file share\n",
    "- 02:35 – Attacker initiates lateral movement with RDP to the Desktop-SDN1RPT system\n",
    "- @02:38 – Beth_Secret.txt is timestomped with meterpreter so that it matches the time of PortalGunsPlans.txt on the DC\n",
    "- 02:40 – Compromised Account uses Internet Explorer to download meterpreter from 194.61.24.102 over HTTP to the Desktop system\n",
    "- @02:41 – Malware persistence is intalled on the Desktop system as a service (same as DC) and in the registry (same as the DC).\n",
    "- @02:46 – loot.zip is created on the Desktop system using the File Explorer (aka the GUI).\n",
    "- @02:48 – loot.zip is exfiltrated and then deleted from the Desktop System\n",
    "- @0850 – Rick Sanchez discovery?! (More to follow)\n",
    "- @0852 – Attacker terminates the first RDP Session with the DC"
   ]
  },
  {
   "cell_type": "markdown",
   "metadata": {},
   "source": []
  }
 ],
 "metadata": {
  "kernelspec": {
   "display_name": "hk23",
   "language": "python",
   "name": "python3"
  },
  "language_info": {
   "codemirror_mode": {
    "name": "ipython",
    "version": 3
   },
   "file_extension": ".py",
   "mimetype": "text/x-python",
   "name": "python",
   "nbconvert_exporter": "python",
   "pygments_lexer": "ipython3",
   "version": "3.10.6"
  },
  "orig_nbformat": 4
 },
 "nbformat": 4,
 "nbformat_minor": 2
}
